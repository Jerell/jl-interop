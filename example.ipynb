{
 "cells": [
  {
   "cell_type": "code",
   "execution_count": 1,
   "metadata": {},
   "outputs": [],
   "source": [
    "using Ai4EComponentLib\n",
    "using Ai4EComponentLib.IncompressiblePipe\n",
    "using DifferentialEquations, ModelingToolkit, Test"
   ]
  },
  {
   "cell_type": "code",
   "execution_count": 2,
   "metadata": {},
   "outputs": [
    {
     "data": {
      "text/plain": [
       "\u001b[38;2;86;182;194mODEProblem\u001b[0m with uType \u001b[38;2;86;182;194mVector{Float64}\u001b[0m and tType \u001b[38;2;86;182;194mFloat64\u001b[0m. In-place: \u001b[38;2;86;182;194mtrue\u001b[0m\n",
       "timespan: (0.0, 0.0)\n",
       "u0: 1-element Vector{Float64}:\n",
       " 1.0"
      ]
     },
     "metadata": {},
     "output_type": "display_data"
    }
   ],
   "source": [
    "D = 0.15\n",
    "\n",
    "@named source = Source_P(D=D)\n",
    "@named sink = Sink_P(p=200000)\n",
    "@named pipe1 = SimplePipe(L=30.0, D=D, f=0.023)\n",
    "\n",
    "eqs = [\n",
    "    connect(source.port, pipe1.in)\n",
    "    connect(pipe1.out, sink.port)\n",
    "]\n",
    "\n",
    "@named model = compose(ODESystem(eqs, t, name=:funs), [source, sink, pipe1])\n",
    "\n",
    "sys = structural_simplify(model)\n",
    "\n",
    "prob = ODEProblem(sys, [], (0.0, 0.0))"
   ]
  },
  {
   "cell_type": "code",
   "execution_count": 3,
   "metadata": {},
   "outputs": [
    {
     "data": {
      "text/plain": [
       "retcode: Success\n",
       "Interpolation: specialized 3rd order \"free\" stiffness-aware interpolation\n",
       "t: 1-element Vector{Float64}:\n",
       " 0.0\n",
       "u: 1-element Vector{Vector{Float64}}:\n",
       " [0.12260241826435926]"
      ]
     },
     "metadata": {},
     "output_type": "display_data"
    }
   ],
   "source": [
    "sol = solve(prob)"
   ]
  },
  {
   "cell_type": "code",
   "execution_count": 4,
   "metadata": {},
   "outputs": [
    {
     "data": {
      "text/plain": [
       "1-element Vector{Float64}:\n",
       " -0.12260241826435926"
      ]
     },
     "metadata": {},
     "output_type": "display_data"
    }
   ],
   "source": [
    "sol[pipe1.in.q]"
   ]
  },
  {
   "cell_type": "code",
   "execution_count": 5,
   "metadata": {},
   "outputs": [
    {
     "data": {
      "text/plain": [
       "1-element Vector{Float64}:\n",
       " -0.12260241826435926"
      ]
     },
     "metadata": {},
     "output_type": "display_data"
    }
   ],
   "source": [
    "sol[sink.port.q]"
   ]
  },
  {
   "cell_type": "code",
   "execution_count": 6,
   "metadata": {},
   "outputs": [],
   "source": []
  }
 ],
 "metadata": {
  "kernelspec": {
   "display_name": "Julia 1.9.1",
   "language": "julia",
   "name": "julia-1.9"
  },
  "language_info": {
   "file_extension": ".jl",
   "mimetype": "application/julia",
   "name": "julia",
   "version": "1.9.1"
  },
  "orig_nbformat": 4
 },
 "nbformat": 4,
 "nbformat_minor": 2
}
