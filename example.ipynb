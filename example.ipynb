{
 "cells": [
  {
   "cell_type": "code",
   "execution_count": 4,
   "metadata": {},
   "outputs": [],
   "source": [
    "# Define components\n",
    "using Ai4EComponentLib\n",
    "using Ai4EComponentLib.CompressedAirSystem\n",
    "using ModelingToolkit, DifferentialEquations"
   ]
  },
  {
   "cell_type": "code",
   "execution_count": 5,
   "metadata": {},
   "outputs": [
    {
     "name": "stderr",
     "output_type": "stream",
     "text": [
      "┌ Warning: source contains 1 flow variables, yet 2 regular (non-flow, non-stream, non-input, non-output) variables. This could lead to imbalanced model that are difficult to debug. Consider marking some of the regular variables as input/output variables.\n",
      "└ @ ModelingToolkit /Users/jerell/.julia/packages/ModelingToolkit/rrbUl/src/systems/connectors.jl:40\n",
      "┌ Warning: inlet contains 1 flow variables, yet 2 regular (non-flow, non-stream, non-input, non-output) variables. This could lead to imbalanced model that are difficult to debug. Consider marking some of the regular variables as input/output variables.\n",
      "└ @ ModelingToolkit /Users/jerell/.julia/packages/ModelingToolkit/rrbUl/src/systems/connectors.jl:40\n"
     ]
    },
    {
     "name": "stderr",
     "output_type": "stream",
     "text": [
      "┌ Warning: outlet contains 1 flow variables, yet 2 regular (non-flow, non-stream, non-input, non-output) variables. This could lead to imbalanced model that are difficult to debug. Consider marking some of the regular variables as input/output variables.\n",
      "└ @ ModelingToolkit /Users/jerell/.julia/packages/ModelingToolkit/rrbUl/src/systems/connectors.jl:40\n",
      "┌ Warning: source contains 1 flow variables, yet 2 regular (non-flow, non-stream, non-input, non-output) variables. This could lead to imbalanced model that are difficult to debug. Consider marking some of the regular variables as input/output variables.\n",
      "└ @ ModelingToolkit /Users/jerell/.julia/packages/ModelingToolkit/rrbUl/src/systems/connectors.jl:40\n"
     ]
    },
    {
     "data": {
      "text/latex": [
       "$$ \\begin{align}\n",
       "0 =& \\mathrm{stateEquation}\\left( inletSource_{+}source_{+}p\\left( t \\right), inletSource_{+}source_+\\rho\\left( t \\right), inletSource_{+}source_{+}T\\left( t \\right) \\right) \\\\\n",
       "0 =&  - pipe1_+\\rho_{mean}\\left( t \\right) + \\sqrt{\\left|pipe1_{+}inlet_+\\rho\\left( t \\right) pipe1_{+}outlet_+\\rho\\left( t \\right)\\right|} \\\\\n",
       "0 =&  - pipe1_{+}qv_{mean}\\left( t \\right) pipe1_+\\rho_{mean}\\left( t \\right) + pipe1_{+}qm\\left( t \\right) \\\\\n",
       "0 =& \\mathrm{pipeFriction}_{turbulent}\\left( pipe1_{+}f\\left( t \\right), pipe1_{+}Re\\left( t \\right), pipe1_+\\epsilon, pipe1_{+}D \\right) \\\\\n",
       "0 =& \\mathrm{stateEquation}\\left( pipe1_{+}inlet_{+}p\\left( t \\right), pipe1_{+}inlet_+\\rho\\left( t \\right), pipe1_{+}inlet_{+}T\\left( t \\right) \\right) \\\\\n",
       "0 =& \\mathrm{stateEquation}\\left( pipe1_{+}outlet_{+}p\\left( t \\right), pipe1_{+}outlet_+\\rho\\left( t \\right), pipe1_{+}outlet_{+}T\\left( t \\right) \\right) \\\\\n",
       "0 =& \\mathrm{stateEquation}\\left( outletSource_{+}source_{+}p\\left( t \\right), outletSource_{+}source_+\\rho\\left( t \\right), outletSource_{+}source_{+}T\\left( t \\right) \\right)\n",
       "\\end{align}\n",
       " $$"
      ],
      "text/plain": [
       "\u001b[0m\u001b[1mModel model with 7 \u001b[22m\u001b[0m\u001b[1mequations\u001b[22m\n",
       "\u001b[0m\u001b[1mStates (7):\u001b[22m\n",
       "  inletSource₊source₊ρ(t) [defaults to 1.2]\n",
       "  pipe1₊ρ_mean(t) [defaults to 1.2]\n",
       "  pipe1₊inlet₊ρ(t) [defaults to 1.2]\n",
       "  pipe1₊outlet₊ρ(t) [defaults to 1.2]\n",
       "⋮\n",
       "\u001b[0m\u001b[1mParameters (4):\u001b[22m\n",
       "  pipe1₊D [defaults to 0.9]\n",
       "  pipe1₊L [defaults to 200]\n",
       "  pipe1₊ϵ [defaults to 5.0e-5]\n",
       "  inletSource₊qm(t)\n",
       "\u001b[35mIncidence matrix:\u001b[39m7×7 SparseArrays.SparseMatrixCSC{Num, Int64} with 13 stored entries:\n",
       " ×  ⋅  ⋅  ⋅  ⋅  ⋅  ⋅\n",
       " ⋅  ×  ×  ×  ⋅  ⋅  ⋅\n",
       " ⋅  ×  ⋅  ⋅  ×  ⋅  ⋅\n",
       " ⋅  ×  ⋅  ⋅  ×  ⋅  ⋅\n",
       " ⋅  ⋅  ×  ⋅  ⋅  ⋅  ⋅\n",
       " ⋅  ⋅  ⋅  ×  ⋅  ×  ⋅\n",
       " ⋅  ⋅  ⋅  ⋅  ⋅  ×  ×"
      ]
     },
     "metadata": {},
     "output_type": "display_data"
    }
   ],
   "source": [
    "# @variables p(t) [input = true]\n",
    "@variables qm(t) [input = true]\n",
    "# @variables pout(t) [output = true]\n",
    "\n",
    "\n",
    "inletBoundary = Dict(\n",
    "    \"p\" => 1.0e5,\n",
    "    \"T\" => 300,\n",
    "    \"qm\" => qm\n",
    ")\n",
    "\n",
    "outletBoundary = Dict(\n",
    "    \"p\" => 8.0e4,\n",
    "    # \"T\" => 300,\n",
    "    # \"qm\" => 5\n",
    ")\n",
    "\n",
    "@named inletSource = Source(boundary=inletBoundary)\n",
    "@named pipe1 = StraightPipe(D=0.9, L=200)\n",
    "@named outletSource = Source(boundary=outletBoundary)\n",
    "\n",
    "# Connect components\n",
    "eqs = [\n",
    "    connect(inletSource.source, pipe1.inlet)\n",
    "    connect(pipe1.outlet, outletSource.source)\n",
    "]\n",
    "\n",
    "@named connects = ODESystem(eqs, t)\n",
    "@named model = compose(connects, inletSource, pipe1, outletSource)\n",
    "\n",
    "# Simplify the system and solve\n",
    "sys = structural_simplify(model)"
   ]
  },
  {
   "cell_type": "code",
   "execution_count": 6,
   "metadata": {},
   "outputs": [
    {
     "data": {
      "text/plain": [
       "retcode: Success\n",
       "Interpolation: 1st order linear\n",
       "t: 2-element Vector{Float64}:\n",
       "  0.0\n",
       " 10.0\n",
       "u: 2-element Vector{Vector{Float64}}:\n",
       " []\n",
       " []"
      ]
     },
     "metadata": {},
     "output_type": "display_data"
    }
   ],
   "source": [
    "prob = ODAEProblem(sys, [], (0.0, 10.0), [qm])\n",
    "\n",
    "sol = solve(prob, Rodas4())"
   ]
  }
 ],
 "metadata": {
  "kernelspec": {
   "display_name": "Julia 1.9.1",
   "language": "julia",
   "name": "julia-1.9"
  },
  "language_info": {
   "file_extension": ".jl",
   "mimetype": "application/julia",
   "name": "julia",
   "version": "1.9.1"
  },
  "orig_nbformat": 4
 },
 "nbformat": 4,
 "nbformat_minor": 2
}
