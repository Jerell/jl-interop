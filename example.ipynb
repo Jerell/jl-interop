{
 "cells": [
  {
   "cell_type": "code",
   "execution_count": 1,
   "metadata": {},
   "outputs": [],
   "source": [
    "using Ai4EComponentLib\n",
    "using Ai4EComponentLib.IncompressiblePipe\n",
    "using DifferentialEquations, ModelingToolkit, Test"
   ]
  },
  {
   "cell_type": "code",
   "execution_count": 2,
   "metadata": {},
   "outputs": [
    {
     "data": {
      "text/plain": [
       "\u001b[38;2;86;182;194mODEProblem\u001b[0m with uType \u001b[38;2;86;182;194mVector{Float64}\u001b[0m and tType \u001b[38;2;86;182;194mFloat64\u001b[0m. In-place: \u001b[38;2;86;182;194mtrue\u001b[0m\n",
       "timespan: (0.0, 0.0)\n",
       "u0: 1-element Vector{Float64}:\n",
       " 1.0"
      ]
     },
     "metadata": {},
     "output_type": "display_data"
    }
   ],
   "source": [
    "D = 0.15\n",
    "\n",
    "@named source = Source_P(D=D, p=300000, K_inlet=0.0)\n",
    "@named sink = Sink_P()\n",
    "@named pipe1 = SimplePipe(L=30.0, D=D, f=0.023)\n",
    "\n",
    "eqs = [\n",
    "    connect(source.port, pipe1.in)\n",
    "    connect(pipe1.out, sink.port)\n",
    "]\n",
    "\n",
    "@named model = compose(ODESystem(eqs, t, name=:funs), [source, sink, pipe1])\n",
    "\n",
    "sys = structural_simplify(model)\n",
    "\n",
    "prob = ODEProblem(sys, [], (0.0, 0.0))"
   ]
  },
  {
   "cell_type": "code",
   "execution_count": 3,
   "metadata": {},
   "outputs": [
    {
     "data": {
      "text/latex": [
       "$$ \\begin{equation}\n",
       "\\left[\n",
       "\\begin{array}{c}\n",
       "\\mathrm{connect}\\left( source_{+}port, pipe1_{+}in \\right) \\\\\n",
       "\\mathrm{connect}\\left( pipe1_{+}out, sink_{+}port \\right) \\\\\n",
       "source_{+}port_{+}z + 0.00010197 source_{+}port_{+}p\\left( t \\right) + 163.27 \\left|source_{+}port_{+}q\\left( t \\right)\\right|^{2} = 30.591 \\\\\n",
       "sink_{+}port_{+}p\\left( t \\right) = 101325 \\\\\n",
       "pipe1_{+}in_{+}z + \\frac{8 \\left|pipe1_{+}in_{+}q\\left( t \\right)\\right|^{2}}{96.788 pipe1_{+}D^{4}} + 0.00010197 pipe1_{+}in_{+}p\\left( t \\right) = pipe1_{+}out_{+}z + \\frac{8 \\left|pipe1_{+}out_{+}q\\left( t \\right)\\right|^{2}}{96.788 pipe1_{+}D^{4}} + \\frac{8 pipe1_{+}K_{inside} pipe1_{+}in_{+}q\\left( t \\right) \\left|pipe1_{+}in_{+}q\\left( t \\right)\\right|}{96.788 pipe1_{+}D^{4}} + \\frac{8 pipe1_{+}L pipe1_{+}f pipe1_{+}in_{+}q\\left( t \\right) \\left|pipe1_{+}in_{+}q\\left( t \\right)\\right|}{96.788 pipe1_{+}D^{5}} + 0.00010197 pipe1_{+}out_{+}p\\left( t \\right) \\\\\n",
       "0 = pipe1_{+}in_{+}q\\left( t \\right) + pipe1_{+}out_{+}q\\left( t \\right) \\\\\n",
       "\\end{array}\n",
       "\\right]\n",
       "\\end{equation}\n",
       " $$"
      ],
      "text/plain": [
       "\u001b[0m\u001b[1mModel model with 4 \u001b[22m\u001b[0m\u001b[1m(\u001b[22m\u001b[35m\u001b[1m8\u001b[22m\u001b[39m\u001b[0m\u001b[1m) \u001b[22m\u001b[0m\u001b[1mequations\u001b[22m\n",
       "\u001b[0m\u001b[1mStates (8):\u001b[22m\n",
       "  source₊port₊p(t) [defaults to 1.0]\n",
       "  source₊port₊q(t) [defaults to 1.0]\n",
       "  sink₊port₊p(t) [defaults to 1.0]\n",
       "  sink₊port₊q(t) [defaults to 1.0]\n",
       "⋮\n",
       "\u001b[0m\u001b[1mParameters (8):\u001b[22m\n",
       "  source₊port₊z [defaults to 0.0]\n",
       "  sink₊port₊z [defaults to 0.0]\n",
       "  pipe1₊D [defaults to 0.15]\n",
       "  pipe1₊L [defaults to 30.0]\n",
       "⋮"
      ]
     },
     "metadata": {},
     "output_type": "display_data"
    }
   ],
   "source": [
    "model"
   ]
  },
  {
   "cell_type": "code",
   "execution_count": 4,
   "metadata": {},
   "outputs": [
    {
     "data": {
      "text/latex": [
       "$$ \\begin{align}\n",
       "0 =&  - source_{+}port_{+}p\\left( t \\right) + pipe1_{+}in_{+}p\\left( t \\right)\n",
       "\\end{align}\n",
       " $$"
      ],
      "text/plain": [
       "\u001b[0m\u001b[1mModel model with 1 \u001b[22m\u001b[0m\u001b[1mequations\u001b[22m\n",
       "\u001b[0m\u001b[1mStates (1):\u001b[22m\n",
       "  pipe1₊out₊q(t) [defaults to 1.0]\n",
       "\u001b[0m\u001b[1mParameters (8):\u001b[22m\n",
       "  source₊port₊z [defaults to 0.0]\n",
       "  sink₊port₊z [defaults to 0.0]\n",
       "  pipe1₊D [defaults to 0.15]\n",
       "  pipe1₊L [defaults to 30.0]\n",
       "⋮\n",
       "\u001b[35mIncidence matrix:\u001b[39m1×1 SparseArrays.SparseMatrixCSC{Num, Int64} with 1 stored entry:\n",
       " ×"
      ]
     },
     "metadata": {},
     "output_type": "display_data"
    }
   ],
   "source": [
    "sys"
   ]
  },
  {
   "cell_type": "code",
   "execution_count": 5,
   "metadata": {},
   "outputs": [
    {
     "data": {
      "text/plain": [
       "retcode: Success\n",
       "Interpolation: specialized 3rd order \"free\" stiffness-aware interpolation\n",
       "t: 1-element Vector{Float64}:\n",
       " 0.0\n",
       "u: 1-element Vector{Vector{Float64}}:\n",
       " [-0.14885553729332035]"
      ]
     },
     "metadata": {},
     "output_type": "display_data"
    }
   ],
   "source": [
    "sol = solve(prob)"
   ]
  },
  {
   "cell_type": "code",
   "execution_count": 6,
   "metadata": {},
   "outputs": [
    {
     "data": {
      "text/plain": [
       "1-element Vector{Float64}:\n",
       " 0.14885553729332035"
      ]
     },
     "metadata": {},
     "output_type": "display_data"
    }
   ],
   "source": [
    "sol[pipe1.in.q]"
   ]
  },
  {
   "cell_type": "code",
   "execution_count": 7,
   "metadata": {},
   "outputs": [
    {
     "data": {
      "text/plain": [
       "1-element Vector{Float64}:\n",
       " 0.14885553729332035"
      ]
     },
     "metadata": {},
     "output_type": "display_data"
    }
   ],
   "source": [
    "sol[sink.port.q]"
   ]
  },
  {
   "cell_type": "code",
   "execution_count": 8,
   "metadata": {},
   "outputs": [
    {
     "data": {
      "text/plain": [
       "1-element Vector{Float64}:\n",
       " 264522.32142857026"
      ]
     },
     "metadata": {},
     "output_type": "display_data"
    }
   ],
   "source": [
    "sol[source.port.p]"
   ]
  },
  {
   "cell_type": "code",
   "execution_count": 9,
   "metadata": {},
   "outputs": [
    {
     "data": {
      "text/plain": [
       "1-element Vector{Float64}:\n",
       " 264522.3214285769"
      ]
     },
     "metadata": {},
     "output_type": "display_data"
    }
   ],
   "source": [
    "sol[pipe1.in.p]"
   ]
  },
  {
   "cell_type": "code",
   "execution_count": 10,
   "metadata": {},
   "outputs": [],
   "source": [
    "using Unitful"
   ]
  },
  {
   "cell_type": "code",
   "execution_count": 11,
   "metadata": {},
   "outputs": [
    {
     "data": {
      "text/plain": [
       "2.6452232142857026 bar"
      ]
     },
     "metadata": {},
     "output_type": "display_data"
    }
   ],
   "source": [
    "uconvert(u\"bar\", sol[source.port.p][1]u\"Pa\")"
   ]
  },
  {
   "cell_type": "code",
   "execution_count": 12,
   "metadata": {},
   "outputs": [
    {
     "data": {
      "text/plain": [
       "1-element Vector{Float64}:\n",
       " 101325.0"
      ]
     },
     "metadata": {},
     "output_type": "display_data"
    }
   ],
   "source": [
    "sol[sink.port.p]"
   ]
  },
  {
   "cell_type": "code",
   "execution_count": 13,
   "metadata": {},
   "outputs": [],
   "source": []
  }
 ],
 "metadata": {
  "kernelspec": {
   "display_name": "Julia 1.9.1",
   "language": "julia",
   "name": "julia-1.9"
  },
  "language_info": {
   "file_extension": ".jl",
   "mimetype": "application/julia",
   "name": "julia",
   "version": "1.9.1"
  },
  "orig_nbformat": 4
 },
 "nbformat": 4,
 "nbformat_minor": 2
}
